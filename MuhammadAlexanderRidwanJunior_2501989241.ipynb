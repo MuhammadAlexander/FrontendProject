{
  "nbformat": 4,
  "nbformat_minor": 0,
  "metadata": {
    "colab": {
      "provenance": [],
      "authorship_tag": "ABX9TyPhvYt0RdsUiwZm0lux/kxc",
      "include_colab_link": true
    },
    "kernelspec": {
      "name": "python3",
      "display_name": "Python 3"
    },
    "language_info": {
      "name": "python"
    }
  },
  "cells": [
    {
      "cell_type": "markdown",
      "metadata": {
        "id": "view-in-github",
        "colab_type": "text"
      },
      "source": [
        "<a href=\"https://colab.research.google.com/github/MuhammadAlexander/FrontendProject/blob/main/MuhammadAlexanderRidwanJunior_2501989241.ipynb\" target=\"_parent\"><img src=\"https://colab.research.google.com/assets/colab-badge.svg\" alt=\"Open In Colab\"/></a>"
      ]
    },
    {
      "cell_type": "markdown",
      "source": [
        "NO 1"
      ],
      "metadata": {
        "id": "ZW2qsdKOzhCN"
      }
    },
    {
      "cell_type": "code",
      "source": [
        "paragrafword=[\"Sadari kekuatan, talenta, dan minat terbaik dalam dirimu dan jangan tergoda untuk mengurusi kelebihan dan kekuatan orang lain. Fokuskan energimu untuk menjadi yang terbaik. Telusuri minat dan lakukan hal-hal yang kamu sukai dengan ikhlas dan terus belajar. Bila perlu tanyakan pendapat orang-orang terdekatmu karena mungkin mereka mengetahui kekuatan yang mungkin tidak kamu sadari.\"]"
      ],
      "metadata": {
        "id": "GGkx0tnXw8Kz"
      },
      "execution_count": 17,
      "outputs": []
    },
    {
      "cell_type": "code",
      "execution_count": 18,
      "metadata": {
        "id": "KnpRQntzqtJ6"
      },
      "outputs": [],
      "source": [
        "from sklearn.feature_extraction.text import CountVectorizer"
      ]
    },
    {
      "cell_type": "code",
      "source": [
        "vectorizer=CountVectorizer()"
      ],
      "metadata": {
        "id": "4_B0-QhLw2yU"
      },
      "execution_count": 19,
      "outputs": []
    },
    {
      "cell_type": "code",
      "source": [
        "vectorizer.fit(paragrafword)"
      ],
      "metadata": {
        "colab": {
          "base_uri": "https://localhost:8080/",
          "height": 75
        },
        "id": "LqcYWvtIxoPA",
        "outputId": "dc573e2e-64fd-44d1-f3da-d7fbf84c2603"
      },
      "execution_count": 21,
      "outputs": [
        {
          "output_type": "execute_result",
          "data": {
            "text/plain": [
              "CountVectorizer()"
            ],
            "text/html": [
              "<style>#sk-container-id-4 {color: black;background-color: white;}#sk-container-id-4 pre{padding: 0;}#sk-container-id-4 div.sk-toggleable {background-color: white;}#sk-container-id-4 label.sk-toggleable__label {cursor: pointer;display: block;width: 100%;margin-bottom: 0;padding: 0.3em;box-sizing: border-box;text-align: center;}#sk-container-id-4 label.sk-toggleable__label-arrow:before {content: \"▸\";float: left;margin-right: 0.25em;color: #696969;}#sk-container-id-4 label.sk-toggleable__label-arrow:hover:before {color: black;}#sk-container-id-4 div.sk-estimator:hover label.sk-toggleable__label-arrow:before {color: black;}#sk-container-id-4 div.sk-toggleable__content {max-height: 0;max-width: 0;overflow: hidden;text-align: left;background-color: #f0f8ff;}#sk-container-id-4 div.sk-toggleable__content pre {margin: 0.2em;color: black;border-radius: 0.25em;background-color: #f0f8ff;}#sk-container-id-4 input.sk-toggleable__control:checked~div.sk-toggleable__content {max-height: 200px;max-width: 100%;overflow: auto;}#sk-container-id-4 input.sk-toggleable__control:checked~label.sk-toggleable__label-arrow:before {content: \"▾\";}#sk-container-id-4 div.sk-estimator input.sk-toggleable__control:checked~label.sk-toggleable__label {background-color: #d4ebff;}#sk-container-id-4 div.sk-label input.sk-toggleable__control:checked~label.sk-toggleable__label {background-color: #d4ebff;}#sk-container-id-4 input.sk-hidden--visually {border: 0;clip: rect(1px 1px 1px 1px);clip: rect(1px, 1px, 1px, 1px);height: 1px;margin: -1px;overflow: hidden;padding: 0;position: absolute;width: 1px;}#sk-container-id-4 div.sk-estimator {font-family: monospace;background-color: #f0f8ff;border: 1px dotted black;border-radius: 0.25em;box-sizing: border-box;margin-bottom: 0.5em;}#sk-container-id-4 div.sk-estimator:hover {background-color: #d4ebff;}#sk-container-id-4 div.sk-parallel-item::after {content: \"\";width: 100%;border-bottom: 1px solid gray;flex-grow: 1;}#sk-container-id-4 div.sk-label:hover label.sk-toggleable__label {background-color: #d4ebff;}#sk-container-id-4 div.sk-serial::before {content: \"\";position: absolute;border-left: 1px solid gray;box-sizing: border-box;top: 0;bottom: 0;left: 50%;z-index: 0;}#sk-container-id-4 div.sk-serial {display: flex;flex-direction: column;align-items: center;background-color: white;padding-right: 0.2em;padding-left: 0.2em;position: relative;}#sk-container-id-4 div.sk-item {position: relative;z-index: 1;}#sk-container-id-4 div.sk-parallel {display: flex;align-items: stretch;justify-content: center;background-color: white;position: relative;}#sk-container-id-4 div.sk-item::before, #sk-container-id-4 div.sk-parallel-item::before {content: \"\";position: absolute;border-left: 1px solid gray;box-sizing: border-box;top: 0;bottom: 0;left: 50%;z-index: -1;}#sk-container-id-4 div.sk-parallel-item {display: flex;flex-direction: column;z-index: 1;position: relative;background-color: white;}#sk-container-id-4 div.sk-parallel-item:first-child::after {align-self: flex-end;width: 50%;}#sk-container-id-4 div.sk-parallel-item:last-child::after {align-self: flex-start;width: 50%;}#sk-container-id-4 div.sk-parallel-item:only-child::after {width: 0;}#sk-container-id-4 div.sk-dashed-wrapped {border: 1px dashed gray;margin: 0 0.4em 0.5em 0.4em;box-sizing: border-box;padding-bottom: 0.4em;background-color: white;}#sk-container-id-4 div.sk-label label {font-family: monospace;font-weight: bold;display: inline-block;line-height: 1.2em;}#sk-container-id-4 div.sk-label-container {text-align: center;}#sk-container-id-4 div.sk-container {/* jupyter's `normalize.less` sets `[hidden] { display: none; }` but bootstrap.min.css set `[hidden] { display: none !important; }` so we also need the `!important` here to be able to override the default hidden behavior on the sphinx rendered scikit-learn.org. See: https://github.com/scikit-learn/scikit-learn/issues/21755 */display: inline-block !important;position: relative;}#sk-container-id-4 div.sk-text-repr-fallback {display: none;}</style><div id=\"sk-container-id-4\" class=\"sk-top-container\"><div class=\"sk-text-repr-fallback\"><pre>CountVectorizer()</pre><b>In a Jupyter environment, please rerun this cell to show the HTML representation or trust the notebook. <br />On GitHub, the HTML representation is unable to render, please try loading this page with nbviewer.org.</b></div><div class=\"sk-container\" hidden><div class=\"sk-item\"><div class=\"sk-estimator sk-toggleable\"><input class=\"sk-toggleable__control sk-hidden--visually\" id=\"sk-estimator-id-4\" type=\"checkbox\" checked><label for=\"sk-estimator-id-4\" class=\"sk-toggleable__label sk-toggleable__label-arrow\">CountVectorizer</label><div class=\"sk-toggleable__content\"><pre>CountVectorizer()</pre></div></div></div></div></div>"
            ]
          },
          "metadata": {},
          "execution_count": 21
        }
      ]
    },
    {
      "cell_type": "code",
      "source": [
        "bow_model = vectorizer.transform(paragrafword)"
      ],
      "metadata": {
        "id": "G8Bkptbsyxyx"
      },
      "execution_count": 22,
      "outputs": []
    },
    {
      "cell_type": "code",
      "source": [
        "print(bow_model)"
      ],
      "metadata": {
        "colab": {
          "base_uri": "https://localhost:8080/"
        },
        "id": "52cDAgQXy7oE",
        "outputId": "32e6a5fb-3553-4f20-cf19-e1706b6af784"
      },
      "execution_count": 23,
      "outputs": [
        {
          "output_type": "stream",
          "name": "stdout",
          "text": [
            "  (0, 0)\t1\n",
            "  (0, 1)\t1\n",
            "  (0, 2)\t1\n",
            "  (0, 3)\t5\n",
            "  (0, 4)\t1\n",
            "  (0, 5)\t1\n",
            "  (0, 6)\t1\n",
            "  (0, 7)\t1\n",
            "  (0, 8)\t2\n",
            "  (0, 9)\t1\n",
            "  (0, 10)\t1\n",
            "  (0, 11)\t2\n",
            "  (0, 12)\t1\n",
            "  (0, 13)\t3\n",
            "  (0, 14)\t1\n",
            "  (0, 15)\t1\n",
            "  (0, 16)\t1\n",
            "  (0, 17)\t1\n",
            "  (0, 18)\t1\n",
            "  (0, 19)\t1\n",
            "  (0, 20)\t1\n",
            "  (0, 21)\t2\n",
            "  (0, 22)\t2\n",
            "  (0, 23)\t3\n",
            "  (0, 24)\t1\n",
            "  (0, 25)\t1\n",
            "  (0, 26)\t2\n",
            "  (0, 27)\t1\n",
            "  (0, 28)\t1\n",
            "  (0, 29)\t1\n",
            "  (0, 30)\t1\n",
            "  (0, 31)\t2\n",
            "  (0, 32)\t1\n",
            "  (0, 33)\t1\n",
            "  (0, 34)\t1\n",
            "  (0, 35)\t1\n",
            "  (0, 36)\t2\n",
            "  (0, 37)\t3\n"
          ]
        }
      ]
    },
    {
      "cell_type": "code",
      "source": [
        "print(vectorizer.vocabulary_)"
      ],
      "metadata": {
        "colab": {
          "base_uri": "https://localhost:8080/"
        },
        "id": "Xndv_GzBzDGL",
        "outputId": "b566d3a0-4ec4-40fe-c9d8-1bbffba68316"
      },
      "execution_count": 24,
      "outputs": [
        {
          "output_type": "stream",
          "name": "stdout",
          "text": [
            "{'sadari': 26, 'kekuatan': 13, 'talenta': 28, 'dan': 3, 'minat': 21, 'terbaik': 31, 'dalam': 2, 'dirimu': 5, 'jangan': 10, 'tergoda': 33, 'untuk': 36, 'mengurusi': 18, 'kelebihan': 14, 'orang': 23, 'lain': 15, 'fokuskan': 7, 'energimu': 6, 'menjadi': 19, 'yang': 37, 'telusuri': 30, 'lakukan': 16, 'hal': 8, 'kamu': 11, 'sukai': 27, 'dengan': 4, 'ikhlas': 9, 'terus': 34, 'belajar': 0, 'bila': 1, 'perlu': 25, 'tanyakan': 29, 'pendapat': 24, 'terdekatmu': 32, 'karena': 12, 'mungkin': 22, 'mereka': 20, 'mengetahui': 17, 'tidak': 35}\n"
          ]
        }
      ]
    },
    {
      "cell_type": "code",
      "source": [
        "print(vectorizer.vocabulary_['talenta'])"
      ],
      "metadata": {
        "colab": {
          "base_uri": "https://localhost:8080/"
        },
        "id": "HCGVJE4-zJh0",
        "outputId": "8a3211ee-fec8-476c-f944-b2c5e6d9cad6"
      },
      "execution_count": 27,
      "outputs": [
        {
          "output_type": "stream",
          "name": "stdout",
          "text": [
            "28\n"
          ]
        }
      ]
    },
    {
      "cell_type": "markdown",
      "source": [
        "No 2"
      ],
      "metadata": {
        "id": "6oZqHYxSzoyV"
      }
    },
    {
      "cell_type": "code",
      "source": [
        "import nltk"
      ],
      "metadata": {
        "id": "FeIDYo0BzqAq"
      },
      "execution_count": 28,
      "outputs": []
    },
    {
      "cell_type": "code",
      "source": [
        "from sklearn.feature_extraction.text import TfidfVectorizer"
      ],
      "metadata": {
        "id": "r-PwtoCTz7V2"
      },
      "execution_count": 29,
      "outputs": []
    },
    {
      "cell_type": "code",
      "source": [
        "from sklearn.metrics.pairwise import cosine_similarity"
      ],
      "metadata": {
        "id": "zUspZjPp0CQF"
      },
      "execution_count": 30,
      "outputs": []
    },
    {
      "cell_type": "code",
      "source": [
        "no2paragrafword=[\"KEREN! Begitu ungkapan yang pas setelah melihat daftar salah satu kuliner khas Indonesia, Rawon sebagai pemuncak daftar sup dengan rating terbaik di dunia, seperti yang dirilis oleh TasteAtlas pada Jumat (28/7/2023) lalu. Makanan khas daerah Jawa Timur ini mendapat nilai total 4,8, mengungguli sepuluh sup lainnya dari berbagai negara, termasuk mengalahkan Ramen, mie Jepang yang sangat terkenal itu. Rawon adalah hidangan tradisional dan khas dari Jawa Timur yang mempunyai cita rasa yang kuat dan tampilan yang unik. Kuahnya berwarna hitam pekat dengan isian daging sapi dengan diperkaya bumbu atau rempah-rempah, seperti daun jeruk, serai, jahe, cabai, keluwak dan sebagainya. Keluwak inilah yang menjadi pembeda dan merupakan komponen penting dalam Rawon selain daging sapi. Keluwak sebenarnya mengandung senyawa sianida yang sangat berbahaya jika dikonsumsi secara langsung.\",\n",
        "                  \"Indonesia merupakan negara dengan keanekaragaman budaya dan kuliner yang beragam, dikenal akan masakannya yang lezat dan menggugah selera semua orang. Dalam beberapa dekade terakhir, makanan Indonesia semakin mendapatkan pengakuan internasional karena keunikan rasa dan variasi bahan-bahannya. Berikut ini beberapa alasan mengapa makanan Indonesia dianggap jauh lebih enak daripada makanan luar negeri. 1. Kaya Rasa dan BumbuSalah satu kekayaan makanan Indonesia terletak pada perpaduan bumbu dan rempah-rempah yang khas. Dengan penggunaan yang tepat, seperti serai, lengkuas, daun salam, kemangi, dan rempah-rempah lainnya, masakan Indonesia memberikan sentuhan yang unik dan kompleks pada setiap suapan. Rasa pedas, manis, asam, gurih, dan rempah-rempah yang harum, semuanya bergabung menjadi harmoni yang sempurna di lidah. 2. Variasi dan Keberagaman Indonesia memiliki lebih dari 17.000 pulau dengan berbagai budaya etnis yang berbeda-beda. Setiap daerah memiliki masakan khasnya sendiri. Dari nasi goreng, rendang, sate, gado-gado, hingga soto, sambal, dan masih banyak lagi. Dengan begitu banyak variasi dan keberagaman ini, makanan Indonesia memanjakan selera dan memberikan pengalaman kuliner yang tak terlupakan. 3. Penggunaan Bahan Segar Salah satu keunggulan makanan Indonesia adalah penggunaan bahan-bahan segar dan alami. Sayuran, rempah-rempah, ikan, daging, dan hasil laut lainnya sering digunakan dalam keadaan segar tanpa bahan tambahan yang berlebihan. Ini tidak hanya memberikan rasa yang lebih autentik, tetapi juga membuat makanan Indonesia menjadi pilihan yang lebih sehat dan bernutrisi.4.Teknik Memasak yang KhasTeknik memasak Indonesia, seperti tumis, merebus, menggoreng, dan merebus dalam santan, menghasilkan makanan yang memiliki tekstur yang unik dan cita rasa yang lebih dalam. Proses pengasapan atau pemasakan dalam daun pisang juga memberikan aroma yang khas pada beberapa hidangan. Teknik-teknik ini menjadikan makanan Indonesia istimewa dan berbeda dari masakan luar negeri.\",\n",
        "                  \"Indonesia diberkahi dengan keragaman suku dan budaya, juga menghasilkan masakan yang unik dan lezat. Beberapa daftar makanan Indonesia yang terkenal di dunia membuktikan hal ini, dan makanan lezat ini akan diperkenalkan pada ulasan berikutnya. Bagi yang belum tahu masakan Indonesia dari seluruh dunia sebenarnya banyak, seperti sate, rendang, nasi goreng, sop buntut, bakso tempe. Semua ini adalah masakan Indonesia dengan cita rasa yang sangat istimewa. Makanan di luar umumnya terasa hambar. Oleh karena itu, tidak heran jika jenis makanan ini mendunia. Selain itu, alasan utama masakan Indonesia mendunia adalah karena Indonesia kaya akan rempah-rempah. Ini adalah hal baru bagi orang luar, karena mereka akan menyukai makanan yang rasanya sangat berbeda dari makanan biasa. Makanan Indonesia Sedunia Seperti yang telah disebutkan pada pembahasan di atas, ada banyak makanan Indonesia di dunia, antara lain sate, endang, nasi goreng, sop buntut dan tempe .Namun selain itu, sebenarnya masih banyak produk global Indonesia lainnya yang akan dibahas di bawah ini. -Sate Ayam Sate Ayam adalah salah satu masakan internasional Indonesia. Makanan pembuka ini menjadi salah satu menu andalan. tiang bangsa Indonesia. Bika Ambon Jajanan khas Medana perkotaan ini terdiri dari campuran tepung terigu, gula pasir, telur, santan dan pandan wangi. Ini memiliki bentuk berongga dan rasa yang ringan.   Sate adalah makanan Indonesia pertama di dunia. Seperti yang kita ketahui bersama, sate adalah makanan khas Indonesia yang terbuat dari daging ayam, sapi atau kambing, dipotong kecil-kecil, ditusuk dengan lidi, dan dibakar. Sate biasanya dimakan dan dimakan dengan dua saus: selai kacang atau selai kacang dan sambal kecap. Sate pasti enak dengan dua kuah ini, apalagi saat masih panas. Oleh karena itu, Sate secara alami telah menjadi salah satu ratu kuliner di Indonesia dan dunia. Saat ini, selain sate, juga dapat ditemukan di pedagang kaki lima dan banyak restoran internasional. Yang menarik adalah di New York, AS. Di Amerika Serikat, sate termasuk dalam menu dan menjadi menu utama Restoran Sate. -Nasi goreng. Nasi Goreng juga termasuk dalam makanan indonesia yang go internasional dikarenakan nasi goreng sangat populer di berbagai belahan dunia. Siapa sangka nasi goreng yang awalnya paling mudah dimasak di Indonesia ini ternyata masuk dalam daftar masakan Indonesia di dunia. Dianggap paling mudah disiapkan karena nasi goreng dimasak dengan hanya sedikit bumbu seperti bawang merah, kecap manis, garam, sedikit merica dan telur. Agar lebih enak, Anda juga bisa menambahkan beberapa bumbu ke dalam nasi goreng, seperti ikan asin, ayam, sosis, bakso, dll. Bahannya sederhana, rasa ini selalu bisa meluluhkan hati banyak pecinta kuliner. asing. Setelah Presiden Amerika Serikat memberi tahu Barack Obama bahwa nasi goreng adalah makanan Indonesia yang lezat dan terkenal di dunia, ketika nama nasi goreng menjadi populer di luar negeri, Anda harus tahu satu hal. Untuk Shanghai World Expo Standar Nasional 2010, nasi goreng juga menjadi sajian menarik yang bisa disajikan. Nasi goreng kuda menjadi semakin terkenal di dunia. -Gado-Gado Makanan berupa selai kacang dan aneka sayuran ini masih menjadi bagian dari Festival Makanan Napoli di Italia. Bakso yang dipadukan dengan bumbu spesial menciptakan cita rasa yang tidak dapat disangkal oleh banyak bahasa. Berbeda dengan sambal, meskipun sambal bukanlah menu utama, namun sambal merupakan masakan khas Indonesia yang selalu muncul di semua menu lainnya. Padahal, menu utama tanpa sambal belumlah lengkap.\"\n",
        "                  ]"
      ],
      "metadata": {
        "id": "35lGr2GY0LjC"
      },
      "execution_count": 33,
      "outputs": []
    },
    {
      "cell_type": "code",
      "source": [
        "sample = \"indonesia\""
      ],
      "metadata": {
        "id": "8uRW09WS262Z"
      },
      "execution_count": 34,
      "outputs": []
    },
    {
      "cell_type": "code",
      "source": [
        "nltk.download('punkt')"
      ],
      "metadata": {
        "colab": {
          "base_uri": "https://localhost:8080/"
        },
        "id": "zRg17rFY3A0G",
        "outputId": "ada47cde-6c2c-4813-fb39-fa6f35951e31"
      },
      "execution_count": 35,
      "outputs": [
        {
          "output_type": "stream",
          "name": "stderr",
          "text": [
            "[nltk_data] Downloading package punkt to /root/nltk_data...\n",
            "[nltk_data]   Unzipping tokenizers/punkt.zip.\n"
          ]
        },
        {
          "output_type": "execute_result",
          "data": {
            "text/plain": [
              "True"
            ]
          },
          "metadata": {},
          "execution_count": 35
        }
      ]
    },
    {
      "cell_type": "code",
      "source": [
        "from nltk.tokenize import word_tokenize"
      ],
      "metadata": {
        "id": "clFvSdDk3JqD"
      },
      "execution_count": 36,
      "outputs": []
    },
    {
      "cell_type": "code",
      "source": [
        "tokenized_no2paragrafword = [word_tokenize(doc.lower()) for doc in no2paragrafword]"
      ],
      "metadata": {
        "id": "5N86MpMI3PwA"
      },
      "execution_count": 37,
      "outputs": []
    },
    {
      "cell_type": "code",
      "source": [
        "tokenized_query = word_tokenize(sample.lower())"
      ],
      "metadata": {
        "id": "y0tYNs413dsY"
      },
      "execution_count": 38,
      "outputs": []
    },
    {
      "cell_type": "code",
      "source": [
        "preprocessed_documents = [' '.join(doc) for doc in tokenized_no2paragrafword]"
      ],
      "metadata": {
        "id": "WZ7mjUHP3pVS"
      },
      "execution_count": 40,
      "outputs": []
    },
    {
      "cell_type": "code",
      "source": [
        "preprocessed_query = ' '.join(tokenized_query)"
      ],
      "metadata": {
        "id": "q-wlGeyV3yia"
      },
      "execution_count": 42,
      "outputs": []
    },
    {
      "cell_type": "code",
      "source": [
        "tfidf_vectorizer = TfidfVectorizer()"
      ],
      "metadata": {
        "id": "h4hFzzrp4QTt"
      },
      "execution_count": 43,
      "outputs": []
    },
    {
      "cell_type": "code",
      "source": [
        "tfidf_matrix = tfidf_vectorizer.fit_transform(preprocessed_documents)"
      ],
      "metadata": {
        "id": "47LUiPrf4VsN"
      },
      "execution_count": 44,
      "outputs": []
    },
    {
      "cell_type": "code",
      "source": [
        "query_vector = tfidf_vectorizer.transform([preprocessed_query])"
      ],
      "metadata": {
        "id": "Zku64nX14YNl"
      },
      "execution_count": 45,
      "outputs": []
    },
    {
      "cell_type": "code",
      "source": [
        "cosine_similarities = cosine_similarity(query_vector, tfidf_matrix)"
      ],
      "metadata": {
        "id": "0JBljyVT4dfs"
      },
      "execution_count": 46,
      "outputs": []
    },
    {
      "cell_type": "code",
      "source": [
        "results = [(no2paragrafword[i], cosine_similarities[0][i]) for i in range(len(no2paragrafword))]"
      ],
      "metadata": {
        "id": "QEMQzSA14iJX"
      },
      "execution_count": 47,
      "outputs": []
    },
    {
      "cell_type": "code",
      "source": [
        "results.sort(key=lambda x: x[1], reverse=True)"
      ],
      "metadata": {
        "id": "lswANsEQ4vSO"
      },
      "execution_count": 48,
      "outputs": []
    },
    {
      "cell_type": "code",
      "source": [
        "for doc, similarity in results:\n",
        "    print(f\"Similarity: {similarity:.2f}\\n{doc}\\n\")"
      ],
      "metadata": {
        "colab": {
          "base_uri": "https://localhost:8080/"
        },
        "id": "dsGuld3R4x4k",
        "outputId": "439a4f1e-e621-4c24-80c0-1aa37d0a63be"
      },
      "execution_count": 49,
      "outputs": [
        {
          "output_type": "stream",
          "name": "stdout",
          "text": [
            "Similarity: 0.29\n",
            "Indonesia diberkahi dengan keragaman suku dan budaya, juga menghasilkan masakan yang unik dan lezat. Beberapa daftar makanan Indonesia yang terkenal di dunia membuktikan hal ini, dan makanan lezat ini akan diperkenalkan pada ulasan berikutnya. Bagi yang belum tahu masakan Indonesia dari seluruh dunia sebenarnya banyak, seperti sate, rendang, nasi goreng, sop buntut, bakso tempe. Semua ini adalah masakan Indonesia dengan cita rasa yang sangat istimewa. Makanan di luar umumnya terasa hambar. Oleh karena itu, tidak heran jika jenis makanan ini mendunia. Selain itu, alasan utama masakan Indonesia mendunia adalah karena Indonesia kaya akan rempah-rempah. Ini adalah hal baru bagi orang luar, karena mereka akan menyukai makanan yang rasanya sangat berbeda dari makanan biasa. Makanan Indonesia Sedunia Seperti yang telah disebutkan pada pembahasan di atas, ada banyak makanan Indonesia di dunia, antara lain sate, endang, nasi goreng, sop buntut dan tempe .Namun selain itu, sebenarnya masih banyak produk global Indonesia lainnya yang akan dibahas di bawah ini. -Sate Ayam Sate Ayam adalah salah satu masakan internasional Indonesia. Makanan pembuka ini menjadi salah satu menu andalan. tiang bangsa Indonesia. Bika Ambon Jajanan khas Medana perkotaan ini terdiri dari campuran tepung terigu, gula pasir, telur, santan dan pandan wangi. Ini memiliki bentuk berongga dan rasa yang ringan.   Sate adalah makanan Indonesia pertama di dunia. Seperti yang kita ketahui bersama, sate adalah makanan khas Indonesia yang terbuat dari daging ayam, sapi atau kambing, dipotong kecil-kecil, ditusuk dengan lidi, dan dibakar. Sate biasanya dimakan dan dimakan dengan dua saus: selai kacang atau selai kacang dan sambal kecap. Sate pasti enak dengan dua kuah ini, apalagi saat masih panas. Oleh karena itu, Sate secara alami telah menjadi salah satu ratu kuliner di Indonesia dan dunia. Saat ini, selain sate, juga dapat ditemukan di pedagang kaki lima dan banyak restoran internasional. Yang menarik adalah di New York, AS. Di Amerika Serikat, sate termasuk dalam menu dan menjadi menu utama Restoran Sate. -Nasi goreng. Nasi Goreng juga termasuk dalam makanan indonesia yang go internasional dikarenakan nasi goreng sangat populer di berbagai belahan dunia. Siapa sangka nasi goreng yang awalnya paling mudah dimasak di Indonesia ini ternyata masuk dalam daftar masakan Indonesia di dunia. Dianggap paling mudah disiapkan karena nasi goreng dimasak dengan hanya sedikit bumbu seperti bawang merah, kecap manis, garam, sedikit merica dan telur. Agar lebih enak, Anda juga bisa menambahkan beberapa bumbu ke dalam nasi goreng, seperti ikan asin, ayam, sosis, bakso, dll. Bahannya sederhana, rasa ini selalu bisa meluluhkan hati banyak pecinta kuliner. asing. Setelah Presiden Amerika Serikat memberi tahu Barack Obama bahwa nasi goreng adalah makanan Indonesia yang lezat dan terkenal di dunia, ketika nama nasi goreng menjadi populer di luar negeri, Anda harus tahu satu hal. Untuk Shanghai World Expo Standar Nasional 2010, nasi goreng juga menjadi sajian menarik yang bisa disajikan. Nasi goreng kuda menjadi semakin terkenal di dunia. -Gado-Gado Makanan berupa selai kacang dan aneka sayuran ini masih menjadi bagian dari Festival Makanan Napoli di Italia. Bakso yang dipadukan dengan bumbu spesial menciptakan cita rasa yang tidak dapat disangkal oleh banyak bahasa. Berbeda dengan sambal, meskipun sambal bukanlah menu utama, namun sambal merupakan masakan khas Indonesia yang selalu muncul di semua menu lainnya. Padahal, menu utama tanpa sambal belumlah lengkap.\n",
            "\n",
            "Similarity: 0.27\n",
            "Indonesia merupakan negara dengan keanekaragaman budaya dan kuliner yang beragam, dikenal akan masakannya yang lezat dan menggugah selera semua orang. Dalam beberapa dekade terakhir, makanan Indonesia semakin mendapatkan pengakuan internasional karena keunikan rasa dan variasi bahan-bahannya. Berikut ini beberapa alasan mengapa makanan Indonesia dianggap jauh lebih enak daripada makanan luar negeri. 1. Kaya Rasa dan BumbuSalah satu kekayaan makanan Indonesia terletak pada perpaduan bumbu dan rempah-rempah yang khas. Dengan penggunaan yang tepat, seperti serai, lengkuas, daun salam, kemangi, dan rempah-rempah lainnya, masakan Indonesia memberikan sentuhan yang unik dan kompleks pada setiap suapan. Rasa pedas, manis, asam, gurih, dan rempah-rempah yang harum, semuanya bergabung menjadi harmoni yang sempurna di lidah. 2. Variasi dan Keberagaman Indonesia memiliki lebih dari 17.000 pulau dengan berbagai budaya etnis yang berbeda-beda. Setiap daerah memiliki masakan khasnya sendiri. Dari nasi goreng, rendang, sate, gado-gado, hingga soto, sambal, dan masih banyak lagi. Dengan begitu banyak variasi dan keberagaman ini, makanan Indonesia memanjakan selera dan memberikan pengalaman kuliner yang tak terlupakan. 3. Penggunaan Bahan Segar Salah satu keunggulan makanan Indonesia adalah penggunaan bahan-bahan segar dan alami. Sayuran, rempah-rempah, ikan, daging, dan hasil laut lainnya sering digunakan dalam keadaan segar tanpa bahan tambahan yang berlebihan. Ini tidak hanya memberikan rasa yang lebih autentik, tetapi juga membuat makanan Indonesia menjadi pilihan yang lebih sehat dan bernutrisi.4.Teknik Memasak yang KhasTeknik memasak Indonesia, seperti tumis, merebus, menggoreng, dan merebus dalam santan, menghasilkan makanan yang memiliki tekstur yang unik dan cita rasa yang lebih dalam. Proses pengasapan atau pemasakan dalam daun pisang juga memberikan aroma yang khas pada beberapa hidangan. Teknik-teknik ini menjadikan makanan Indonesia istimewa dan berbeda dari masakan luar negeri.\n",
            "\n",
            "Similarity: 0.05\n",
            "KEREN! Begitu ungkapan yang pas setelah melihat daftar salah satu kuliner khas Indonesia, Rawon sebagai pemuncak daftar sup dengan rating terbaik di dunia, seperti yang dirilis oleh TasteAtlas pada Jumat (28/7/2023) lalu. Makanan khas daerah Jawa Timur ini mendapat nilai total 4,8, mengungguli sepuluh sup lainnya dari berbagai negara, termasuk mengalahkan Ramen, mie Jepang yang sangat terkenal itu. Rawon adalah hidangan tradisional dan khas dari Jawa Timur yang mempunyai cita rasa yang kuat dan tampilan yang unik. Kuahnya berwarna hitam pekat dengan isian daging sapi dengan diperkaya bumbu atau rempah-rempah, seperti daun jeruk, serai, jahe, cabai, keluwak dan sebagainya. Keluwak inilah yang menjadi pembeda dan merupakan komponen penting dalam Rawon selain daging sapi. Keluwak sebenarnya mengandung senyawa sianida yang sangat berbahaya jika dikonsumsi secara langsung.\n",
            "\n"
          ]
        }
      ]
    },
    {
      "cell_type": "markdown",
      "source": [
        "NO 3"
      ],
      "metadata": {
        "id": "f5A8UtU744jB"
      }
    },
    {
      "cell_type": "code",
      "source": [],
      "metadata": {
        "id": "nP3GnrBO4-7L"
      },
      "execution_count": null,
      "outputs": []
    }
  ]
}